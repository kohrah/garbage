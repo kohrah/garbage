{
 "cells": [
  {
   "cell_type": "code",
   "execution_count": 1,
   "metadata": {},
   "outputs": [],
   "source": [
    "import pandas as pd\n",
    "import geopandas as gpd\n",
    "from geopandas import GeoDataFrame\n",
    "import folium\n",
    "import shapely\n",
    "import matplotlib.pyplot as plt\n",
    "from shapely.ops import unary_union\n",
    "from shapely.geometry import MultiPolygon, Polygon\n",
    "import plotly.plotly as py_cloud\n",
    "import plotly.offline as py\n",
    "import pandas as pd\n",
    "import colorlover as cl\n",
    "import numpy as np\n",
    "from shapely.ops import cascaded_union\n",
    "%matplotlib inline"
   ]
  },
  {
   "cell_type": "code",
   "execution_count": 2,
   "metadata": {},
   "outputs": [],
   "source": [
    "###\n",
    "fname = 'C:\\\\users\\\\nosok\\\\desktop\\\\RUS_adm\\\\RUS_adm3.shp'\n",
    "###\n",
    "df1 = gpd.GeoDataFrame.from_file(fname)\n",
    "df = df1[df1.NAME_1.str.strip()=='Yamal-Nenets']"
   ]
  },
  {
   "cell_type": "code",
   "execution_count": 5,
   "metadata": {},
   "outputs": [
    {
     "data": {
      "text/plain": [
       "<matplotlib.axes._subplots.AxesSubplot at 0x286818e7d68>"
      ]
     },
     "execution_count": 5,
     "metadata": {},
     "output_type": "execute_result"
    },
    {
     "data": {
      "image/png": "[encoded data removed]",
      "text/plain": [
       "<Figure size 432x288 with 1 Axes>"
      ]
     },
     "metadata": {},
     "output_type": "display_data"
    }
   ],
   "source": [
    "df.geometry.plot()"
   ]
  },
  {
   "cell_type": "code",
   "execution_count": 2,
   "metadata": {},
   "outputs": [],
   "source": [
    "layout = dict(\n",
    "    hovermode = 'closest',\n",
    "    xaxis = dict(\n",
    "        autorange = False,\n",
    "        range = [0, 180],\n",
    "        showgrid = False,\n",
    "        zeroline = False,\n",
    "        fixedrange = True\n",
    "    ),\n",
    "    yaxis = dict(\n",
    "        autorange = False,\n",
    "        range = [40, 80],\n",
    "        showgrid = False,\n",
    "        zeroline = False,\n",
    "        fixedrange = False\n",
    "    ),\n",
    "    margin = dict(\n",
    "        t=20,\n",
    "        b=20,\n",
    "        r=20,\n",
    "        l=20\n",
    "    ),\n",
    "    width = 1400,\n",
    "    height = 650,\n",
    "    dragmode = 'select'\n",
    ")"
   ]
  },
  {
   "cell_type": "code",
   "execution_count": 15,
   "metadata": {},
   "outputs": [],
   "source": [
    "plot_data = []\n",
    "for index, row in df.iterrows():\n",
    "    if df['geometry'][index].type == 'Polygon':\n",
    "        x, y = row.geometry.exterior.xy\n",
    "        c_x, c_y = row.geometry.centroid.xy\n",
    "    elif df['geometry'][index].type == 'MultiPolygon':\n",
    "        poly = row.geometry\n",
    "        x, y = [], []\n",
    "        c_x, c_y = [], []\n",
    "        for p in poly:\n",
    "            _x, _y = p.exterior.xy\n",
    "            x.append(_x), y.append(_y)\n",
    "            _c_x, _c_y = p.centroid.xy\n",
    "            c_x.append(_c_x), c_y.append(_c_y) \n",
    "    else: \n",
    "        print('stop')\n",
    "        \n",
    "    outline = dict(\n",
    "            type = 'scatter',\n",
    "            showlegend = False,\n",
    "            legendgroup = \"shapes\",\n",
    "            line = dict(color='black', width=1),\n",
    "            x = np.asarray(x),\n",
    "            y = np.asarray(y),\n",
    "            fill = 'toself',\n",
    "            fillcolor = 'purple',\n",
    "            hoverinfo = 'none'\n",
    "        )\n",
    "    plot_data.append(outline)"
   ]
  },
  {
   "cell_type": "code",
   "execution_count": 16,
   "metadata": {},
   "outputs": [
    {
     "data": {
      "text/plain": [
       "'file://C:\\\\Users\\\\nosok\\\\Yamal.html'"
      ]
     },
     "execution_count": 16,
     "metadata": {},
     "output_type": "execute_result"
    }
   ],
   "source": [
    "fig = dict(data=plot_data, layout=layout)\n",
    "py.plot(fig, filename='Yamal.html')"
   ]
  }
 ],
 "metadata": {
  "anaconda-cloud": {},
  "kernelspec": {
   "display_name": "Python 3",
   "language": "python",
   "name": "python3"
  },
  "language_info": {
   "codemirror_mode": {
    "name": "ipython",
    "version": 3
   },
   "file_extension": ".py",
   "mimetype": "text/x-python",
   "name": "python",
   "nbconvert_exporter": "python",
   "pygments_lexer": "ipython3",
   "version": "3.6.5"
  }
 },
 "nbformat": 4,
 "nbformat_minor": 1
}
